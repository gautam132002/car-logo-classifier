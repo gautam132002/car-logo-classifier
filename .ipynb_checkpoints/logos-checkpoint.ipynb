{
 "cells": [
  {
   "cell_type": "code",
   "execution_count": 13,
   "id": "4d9336ad-53d3-4f04-88f6-81b6580188ec",
   "metadata": {},
   "outputs": [],
   "source": [
    "import tensorflow as tf\n",
    "from tensorflow.keras import layers, models\n",
    "from tensorflow.keras.preprocessing.image import ImageDataGenerator"
   ]
  },
  {
   "cell_type": "code",
   "execution_count": 20,
   "id": "a9f6c189-01b3-4ce0-995e-7fcb9d854b26",
   "metadata": {},
   "outputs": [],
   "source": [
    "# Define paths\n",
    "train_data_dir = 'dataset_logos/Train'\n",
    "test_data_dir = 'dataset_logos/Test'\n",
    "\n",
    "# Image dimensions\n",
    "img_width, img_height = 150, 150\n",
    "input_shape = (img_width, img_height, 3)"
   ]
  },
  {
   "cell_type": "code",
   "execution_count": 21,
   "id": "23fcc0e2-cb2a-4a9c-b017-cf19cee2b768",
   "metadata": {},
   "outputs": [],
   "source": [
    "# Parameters\n",
    "batch_size = 32\n",
    "epochs = 20\n",
    "\n",
    "# Data preprocessing and augmentation\n",
    "train_datagen = ImageDataGenerator(\n",
    "    rescale=1./255,\n",
    "    shear_range=0.2,\n",
    "    zoom_range=0.2,\n",
    "    horizontal_flip=True\n",
    ")\n",
    "\n",
    "test_datagen = ImageDataGenerator(rescale=1./255)\n"
   ]
  },
  {
   "cell_type": "code",
   "execution_count": 22,
   "id": "01053c2d-67af-4211-8ecb-5a6bc650db16",
   "metadata": {},
   "outputs": [
    {
     "name": "stdout",
     "output_type": "stream",
     "text": [
      "Found 10000 images belonging to 10 classes.\n",
      "Found 1500 images belonging to 10 classes.\n"
     ]
    }
   ],
   "source": [
    "train_generator = train_datagen.flow_from_directory(\n",
    "    train_data_dir,\n",
    "    target_size=(img_width, img_height),\n",
    "    batch_size=batch_size,\n",
    "    class_mode='categorical'\n",
    ")\n",
    "\n",
    "test_generator = test_datagen.flow_from_directory(\n",
    "    test_data_dir,\n",
    "    target_size=(img_width, img_height),\n",
    "    batch_size=batch_size,\n",
    "    class_mode='categorical'\n",
    ")\n"
   ]
  },
  {
   "cell_type": "code",
   "execution_count": 23,
   "id": "21b5cdd2-de66-4623-814f-23ffe229cdec",
   "metadata": {},
   "outputs": [],
   "source": [
    "# Model architecture\n",
    "model = models.Sequential()\n",
    "model.add(layers.Conv2D(32, (3, 3), input_shape=input_shape, activation='relu'))\n",
    "model.add(layers.MaxPooling2D(pool_size=(2, 2)))\n",
    "model.add(layers.Conv2D(64, (3, 3), activation='relu'))\n",
    "model.add(layers.MaxPooling2D(pool_size=(2, 2)))\n",
    "model.add(layers.Conv2D(128, (3, 3), activation='relu'))\n",
    "model.add(layers.MaxPooling2D(pool_size=(2, 2)))\n",
    "model.add(layers.Flatten())\n",
    "model.add(layers.Dense(256, activation='relu'))\n",
    "model.add(layers.Dropout(0.5))\n",
    "model.add(layers.Dense(10, activation='softmax'))\n"
   ]
  },
  {
   "cell_type": "code",
   "execution_count": 24,
   "id": "3555ec5a-1ffe-46d9-b789-d23deb74f371",
   "metadata": {},
   "outputs": [],
   "source": [
    "# Compile the model\n",
    "model.compile(optimizer='adam',\n",
    "              loss='categorical_crossentropy',\n",
    "              metrics=['accuracy'])\n",
    "\n"
   ]
  },
  {
   "cell_type": "code",
   "execution_count": 25,
   "id": "5241a85a-2eef-4c66-89a4-70fef7999066",
   "metadata": {},
   "outputs": [
    {
     "name": "stdout",
     "output_type": "stream",
     "text": [
      "Epoch 1/20\n",
      "312/312 [==============================] - 352s 1s/step - loss: 1.1163 - accuracy: 0.6360\n",
      "Epoch 2/20\n",
      "312/312 [==============================] - 358s 1s/step - loss: 0.3255 - accuracy: 0.9003\n",
      "Epoch 3/20\n",
      "312/312 [==============================] - 355s 1s/step - loss: 0.2138 - accuracy: 0.9370\n",
      "Epoch 4/20\n",
      "312/312 [==============================] - 353s 1s/step - loss: 0.1254 - accuracy: 0.9615\n",
      "Epoch 5/20\n",
      "312/312 [==============================] - 352s 1s/step - loss: 0.1246 - accuracy: 0.9618\n",
      "Epoch 6/20\n",
      "312/312 [==============================] - 354s 1s/step - loss: 0.0824 - accuracy: 0.9739\n",
      "Epoch 7/20\n",
      "312/312 [==============================] - 358s 1s/step - loss: 0.0686 - accuracy: 0.9782\n",
      "Epoch 8/20\n",
      "312/312 [==============================] - 355s 1s/step - loss: 0.0661 - accuracy: 0.9797\n",
      "Epoch 9/20\n",
      "312/312 [==============================] - 356s 1s/step - loss: 0.0572 - accuracy: 0.9816\n",
      "Epoch 10/20\n",
      "312/312 [==============================] - 357s 1s/step - loss: 0.0440 - accuracy: 0.9865\n",
      "Epoch 11/20\n",
      "312/312 [==============================] - 359s 1s/step - loss: 0.0488 - accuracy: 0.9853\n",
      "Epoch 12/20\n",
      "312/312 [==============================] - 360s 1s/step - loss: 0.0474 - accuracy: 0.9858\n",
      "Epoch 13/20\n",
      "312/312 [==============================] - 359s 1s/step - loss: 0.0471 - accuracy: 0.9858\n",
      "Epoch 14/20\n",
      "312/312 [==============================] - 370s 1s/step - loss: 0.0462 - accuracy: 0.9871\n",
      "Epoch 15/20\n",
      "312/312 [==============================] - 359s 1s/step - loss: 0.0472 - accuracy: 0.9873\n",
      "Epoch 16/20\n",
      "312/312 [==============================] - 358s 1s/step - loss: 0.0316 - accuracy: 0.9894\n",
      "Epoch 17/20\n",
      "312/312 [==============================] - 361s 1s/step - loss: 0.0384 - accuracy: 0.9878\n",
      "Epoch 18/20\n",
      "312/312 [==============================] - 359s 1s/step - loss: 0.0390 - accuracy: 0.9883\n",
      "Epoch 19/20\n",
      "312/312 [==============================] - 360s 1s/step - loss: 0.0301 - accuracy: 0.9906\n",
      "Epoch 20/20\n",
      "312/312 [==============================] - 359s 1s/step - loss: 0.0384 - accuracy: 0.9880\n"
     ]
    },
    {
     "data": {
      "text/plain": [
       "<keras.src.callbacks.History at 0x7f0c703236a0>"
      ]
     },
     "execution_count": 25,
     "metadata": {},
     "output_type": "execute_result"
    }
   ],
   "source": [
    "# Train the model\n",
    "history = model.fit(\n",
    "    train_generator,\n",
    "    steps_per_epoch=train_generator.samples // batch_size,\n",
    "    epochs=epochs\n",
    ")\n"
   ]
  },
  {
   "cell_type": "code",
   "execution_count": 29,
   "id": "9c9112cb-f884-488b-bffb-5c83e792e66a",
   "metadata": {},
   "outputs": [
    {
     "name": "stdout",
     "output_type": "stream",
     "text": [
      "46/46 [==============================] - 14s 305ms/step - loss: 7.0500e-04 - accuracy: 1.0000\n",
      "Test accuracy: 1.0\n"
     ]
    }
   ],
   "source": [
    "test_loss, test_acc = model.evaluate(\n",
    "    test_generator,\n",
    "    steps=test_generator.samples // batch_size\n",
    ")\n",
    "\n",
    "print(f'Test accuracy: {test_acc}')\n"
   ]
  },
  {
   "cell_type": "code",
   "execution_count": 30,
   "id": "7a303e37-6411-4646-a6d3-49939ee30e45",
   "metadata": {},
   "outputs": [
    {
     "ename": "NameError",
     "evalue": "name 'history' is not defined",
     "output_type": "error",
     "traceback": [
      "\u001b[0;31m---------------------------------------------------------------------------\u001b[0m",
      "\u001b[0;31mNameError\u001b[0m                                 Traceback (most recent call last)",
      "Cell \u001b[0;32mIn[30], line 25\u001b[0m\n\u001b[1;32m     22\u001b[0m     plt\u001b[38;5;241m.\u001b[39mshow()\n\u001b[1;32m     24\u001b[0m \u001b[38;5;66;03m# Call the function to plot the history\u001b[39;00m\n\u001b[0;32m---> 25\u001b[0m plot_history(\u001b[43mhistory\u001b[49m)\n",
      "\u001b[0;31mNameError\u001b[0m: name 'history' is not defined"
     ]
    }
   ],
   "source": [
    "import matplotlib.pyplot as plt\n",
    "\n",
    "# Plot training history\n",
    "def plot_history(history):\n",
    "    # Plot accuracy\n",
    "    plt.figure(figsize=(12, 4))\n",
    "    plt.subplot(1, 2, 1)\n",
    "    plt.plot(history.history['accuracy'], label='Training Accuracy')\n",
    "    plt.title('Training Accuracy')\n",
    "    plt.xlabel('Epoch')\n",
    "    plt.ylabel('Accuracy')\n",
    "    plt.legend()\n",
    "\n",
    "    # Plot loss\n",
    "    plt.subplot(1, 2, 2)\n",
    "    plt.plot(history.history['loss'], label='Training Loss')\n",
    "    plt.title('Training Loss')\n",
    "    plt.xlabel('Epoch')\n",
    "    plt.ylabel('Loss')\n",
    "    plt.legend()\n",
    "\n",
    "    plt.show()\n",
    "\n",
    "# Call the function to plot the history\n",
    "plot_history(history)"
   ]
  },
  {
   "cell_type": "code",
   "execution_count": 31,
   "id": "066de9f7-eb82-45ff-821d-cbee88e0410f",
   "metadata": {},
   "outputs": [
    {
     "name": "stderr",
     "output_type": "stream",
     "text": [
      "/home/guatam/.local/lib/python3.9/site-packages/keras/src/engine/training.py:3000: UserWarning: You are saving your model as an HDF5 file via `model.save()`. This file format is considered legacy. We recommend using instead the native Keras format, e.g. `model.save('my_model.keras')`.\n",
      "  saving_api.save_model(\n"
     ]
    }
   ],
   "source": [
    "model.save('car_logo_classifier_model.h5')"
   ]
  },
  {
   "cell_type": "code",
   "execution_count": 37,
   "id": "3b8b0010-fec9-475e-810c-e364ae7f0ad8",
   "metadata": {},
   "outputs": [
    {
     "name": "stdin",
     "output_type": "stream",
     "text": [
      "Enter the path of the image:  vol.png\n"
     ]
    },
    {
     "data": {
      "image/png": "[encoded data removed]",
      "text/plain": [
       "<Figure size 200x400 with 2 Axes>"
      ]
     },
     "metadata": {},
     "output_type": "display_data"
    },
    {
     "name": "stdout",
     "output_type": "stream",
     "text": [
      "1/1 [==============================] - 0s 168ms/step\n",
      "Predicted class: Mazda\n"
     ]
    }
   ],
   "source": [
    "import tensorflow as tf\n",
    "from tensorflow.keras.preprocessing import image\n",
    "import numpy as np\n",
    "import matplotlib.pyplot as plt\n",
    "\n",
    "# Load the trained model\n",
    "loaded_model = tf.keras.models.load_model('car_logo_classifier_model.h5')\n",
    "\n",
    "# Function to preprocess an image\n",
    "def preprocess_image(img_path):\n",
    "    img = image.load_img(img_path, target_size=(img_width, img_height))\n",
    "    img_array = image.img_to_array(img)\n",
    "    img_array = np.expand_dims(img_array, axis=0)\n",
    "    img_array /= 255.0  # Normalize\n",
    "    return img_array\n",
    "\n",
    "# Take user input for an image path\n",
    "image_path = input(\"Enter the path of the image: \")\n",
    "\n",
    "# Preprocess the user input image\n",
    "processed_image = preprocess_image(image_path)\n",
    "\n",
    "# Plot the original and preprocessed images\n",
    "plt.figure(figsize=(10, 4))\n",
    "\n",
    "# Original Image\n",
    "plt.subplot(1, 2, 1)\n",
    "img = image.load_img(image_path)\n",
    "plt.imshow(img)\n",
    "plt.title('Original Image')\n",
    "\n",
    "# Preprocessed Image\n",
    "plt.subplot(1, 2, 2)\n",
    "plt.imshow(np.squeeze(processed_image))\n",
    "plt.title('Preprocessed Image')\n",
    "\n",
    "plt.show()\n",
    "\n",
    "# Make predictions\n",
    "predictions = loaded_model.predict(processed_image)\n",
    "\n",
    "# Get the predicted class\n",
    "predicted_class = np.argmax(predictions)\n",
    "\n",
    "# Get the class labels\n",
    "class_labels = list(train_generator.class_indices.keys())\n",
    "\n",
    "# Print the result\n",
    "print(f\"Predicted class: {class_labels[predicted_class]}\")\n"
   ]
  },
  {
   "cell_type": "code",
   "execution_count": null,
   "id": "b8f38eef-26ec-4900-8408-9c648f214142",
   "metadata": {},
   "outputs": [],
   "source": []
  }
 ],
 "metadata": {
  "kernelspec": {
   "display_name": "Python 3 (ipykernel)",
   "language": "python",
   "name": "python3"
  },
  "language_info": {
   "codemirror_mode": {
    "name": "ipython",
    "version": 3
   },
   "file_extension": ".py",
   "mimetype": "text/x-python",
   "name": "python",
   "nbconvert_exporter": "python",
   "pygments_lexer": "ipython3",
   "version": "3.9.2"
  }
 },
 "nbformat": 4,
 "nbformat_minor": 5
}
